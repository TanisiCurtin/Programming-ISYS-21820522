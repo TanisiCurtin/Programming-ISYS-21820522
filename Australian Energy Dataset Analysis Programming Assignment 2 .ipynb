{
  "nbformat": 4,
  "nbformat_minor": 0,
  "metadata": {
    "colab": {
      "provenance": [],
      "authorship_tag": "ABX9TyMxoTXOvztUjV2DzKwGoWX9",
      "include_colab_link": true
    },
    "kernelspec": {
      "name": "python3",
      "display_name": "Python 3"
    },
    "language_info": {
      "name": "python"
    }
  },
  "cells": [
    {
      "cell_type": "markdown",
      "metadata": {
        "id": "view-in-github",
        "colab_type": "text"
      },
      "source": [
        "<a href=\"https://colab.research.google.com/github/TanisiCurtin/Programming-ISYS-21820522/blob/main/Australian%20Energy%20Dataset%20Analysis%20Programming%20Assignment%202%20.ipynb\" target=\"_parent\"><img src=\"https://colab.research.google.com/assets/colab-badge.svg\" alt=\"Open In Colab\"/></a>"
      ]
    },
    {
      "cell_type": "code",
      "execution_count": null,
      "metadata": {
        "id": "1S6TAFB-_JuX"
      },
      "outputs": [],
      "source": []
    }
  ]
}